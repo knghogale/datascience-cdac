{
 "cells": [
  {
   "cell_type": "code",
   "execution_count": 21,
   "id": "5895208d",
   "metadata": {},
   "outputs": [
    {
     "name": "stdout",
     "output_type": "stream",
     "text": [
      "hello world !!\n",
      "This is Kedar Ghogale, CDAC Pune.\n",
      "Please find the solution of assignment number 01 below (16/08/2024) ..\n"
     ]
    }
   ],
   "source": [
    "print (\"hello world !!\")\n",
    "print (\"This is Kedar Ghogale, CDAC Pune.\")\n",
    "print (\"Please find the solution of assignment number 01 below (16/08/2024) ..\")"
   ]
  },
  {
   "cell_type": "code",
   "execution_count": 3,
   "id": "361cb210",
   "metadata": {},
   "outputs": [
    {
     "name": "stdout",
     "output_type": "stream",
     "text": [
      "Enter temperature in Celsius: -40\n",
      "The equivalent temperature in Fahrenheit is: -40.0°F\n"
     ]
    }
   ],
   "source": [
    "# Function to convert Celsius to Fahrenheit\n",
    "def celsius_to_fahrenheit(celsius):\n",
    "    return (celsius * 9/5) + 32\n",
    "\n",
    "# Read temperature in Celsius from the user\n",
    "celsius = float(input(\"Enter temperature in Celsius: \"))\n",
    "\n",
    "# Convert the temperature to Fahrenheit\n",
    "fahrenheit = celsius_to_fahrenheit(celsius)\n",
    "\n",
    "# Print the result\n",
    "print(f\"The equivalent temperature in Fahrenheit is: {fahrenheit}°F\")"
   ]
  },
  {
   "cell_type": "code",
   "execution_count": 4,
   "id": "b432aa2b",
   "metadata": {},
   "outputs": [
    {
     "name": "stdout",
     "output_type": "stream",
     "text": [
      "Enter the radius of the circle: 2\n",
      "The area of the circle is: 12.57 square units\n",
      "The perimeter (circumference) of the circle is: 12.57 units\n"
     ]
    }
   ],
   "source": [
    "import math\n",
    "\n",
    "# Function to calculate the area of the circle\n",
    "def calculate_area(radius):\n",
    "    return math.pi * (radius ** 2)\n",
    "\n",
    "# Function to calculate the perimeter (circumference) of the circle\n",
    "def calculate_perimeter(radius):\n",
    "    return 2 * math.pi * radius\n",
    "\n",
    "# Read radius of the circle from the user\n",
    "radius = float(input(\"Enter the radius of the circle: \"))\n",
    "\n",
    "# Calculate the area and perimeter\n",
    "area = calculate_area(radius)\n",
    "perimeter = calculate_perimeter(radius)\n",
    "\n",
    "# Print the results\n",
    "print(f\"The area of the circle is: {area:.2f} square units\")\n",
    "print(f\"The perimeter (circumference) of the circle is: {perimeter:.2f} units\")"
   ]
  },
  {
   "cell_type": "code",
   "execution_count": 5,
   "id": "bdffd58c",
   "metadata": {},
   "outputs": [
    {
     "name": "stdout",
     "output_type": "stream",
     "text": [
      "Enter the original amount: 500\n",
      "Enter the interest rate (in %): 15\n",
      "The final amount after adding 15.0% interest is: 575.00\n"
     ]
    }
   ],
   "source": [
    "# Function to calculate the final amount after adding interest\n",
    "def calculate_final_amount(amount, interest_rate):\n",
    "    interest = (amount * interest_rate) / 100\n",
    "    return amount + interest\n",
    "\n",
    "# Read the original amount from the user\n",
    "amount = float(input(\"Enter the original amount: \"))\n",
    "\n",
    "# Read the interest rate (percentage) from the user\n",
    "interest_rate = float(input(\"Enter the interest rate (in %): \"))\n",
    "\n",
    "# Calculate the final amount\n",
    "final_amount = calculate_final_amount(amount, interest_rate)\n",
    "\n",
    "# Print the final amount\n",
    "print(f\"The final amount after adding {interest_rate}% interest is: {final_amount:.2f}\")"
   ]
  },
  {
   "cell_type": "code",
   "execution_count": 6,
   "id": "a6043b97",
   "metadata": {},
   "outputs": [
    {
     "name": "stdout",
     "output_type": "stream",
     "text": [
      "Enter distance in meters: 10\n",
      "10.0 meters is equivalent to:\n",
      "1000.00 centimeters\n",
      "393.70 inches\n",
      "10.94 yards\n"
     ]
    }
   ],
   "source": [
    "# Function to convert meters to centimeters\n",
    "def meters_to_centimeters(meters):\n",
    "    return meters * 100\n",
    "\n",
    "# Function to convert meters to inches\n",
    "def meters_to_inches(meters):\n",
    "    return meters * 39.3701\n",
    "\n",
    "# Function to convert meters to yards\n",
    "def meters_to_yards(meters):\n",
    "    return meters * 1.09361\n",
    "\n",
    "# Read distance in meters from the user\n",
    "meters = float(input(\"Enter distance in meters: \"))\n",
    "\n",
    "# Convert the distance to centimeters, inches, and yards\n",
    "centimeters = meters_to_centimeters(meters)\n",
    "inches = meters_to_inches(meters)\n",
    "yards = meters_to_yards(meters)\n",
    "\n",
    "# Print the results\n",
    "print(f\"{meters} meters is equivalent to:\")\n",
    "print(f\"{centimeters:.2f} centimeters\")\n",
    "print(f\"{inches:.2f} inches\")\n",
    "print(f\"{yards:.2f} yards\")"
   ]
  },
  {
   "cell_type": "code",
   "execution_count": 7,
   "id": "d24b2f60",
   "metadata": {},
   "outputs": [
    {
     "name": "stdout",
     "output_type": "stream",
     "text": [
      "Enter the actual cost price of the product: 500\n",
      "Enter the selling price of the product: 400\n",
      "You made a Loss of 100.00 units.\n"
     ]
    }
   ],
   "source": [
    "# Function to calculate profit or loss\n",
    "def calculate_profit_or_loss(cost_price, selling_price):\n",
    "    if selling_price > cost_price:\n",
    "        return \"Profit\", selling_price - cost_price\n",
    "    elif selling_price < cost_price:\n",
    "        return \"Loss\", cost_price - selling_price\n",
    "    else:\n",
    "        return \"No Profit No Loss\", 0\n",
    "\n",
    "# Read the cost price and selling price from the user\n",
    "cost_price = float(input(\"Enter the actual cost price of the product: \"))\n",
    "selling_price = float(input(\"Enter the selling price of the product: \"))\n",
    "\n",
    "# Calculate profit or loss\n",
    "result, amount = calculate_profit_or_loss(cost_price, selling_price)\n",
    "\n",
    "# Print the result\n",
    "if amount > 0:\n",
    "    print(f\"You made a {result} of {amount:.2f} units.\")\n",
    "else:\n",
    "    print(f\"You have {result}.\")"
   ]
  },
  {
   "cell_type": "code",
   "execution_count": 8,
   "id": "0c5ce67a",
   "metadata": {},
   "outputs": [
    {
     "name": "stdout",
     "output_type": "stream",
     "text": [
      "Enter the basic salary: 123000\n",
      "The gross salary is: 239850.00\n"
     ]
    }
   ],
   "source": [
    "# Function to calculate the gross salary\n",
    "def calculate_gross_salary(basic_salary):\n",
    "    da = 0.75 * basic_salary  # DA is 75% of basic\n",
    "    hra = 0.20 * basic_salary  # HRA is 20% of basic\n",
    "    \n",
    "    if basic_salary < 10000:\n",
    "        gross_salary = basic_salary + da\n",
    "    elif 10000 <= basic_salary < 20000:\n",
    "        gross_salary = basic_salary + da + 0.50 * hra\n",
    "    else:\n",
    "        gross_salary = basic_salary + da + hra\n",
    "    \n",
    "    return gross_salary\n",
    "\n",
    "# Read the basic salary from the user\n",
    "basic_salary = float(input(\"Enter the basic salary: \"))\n",
    "\n",
    "# Calculate the gross salary\n",
    "gross_salary = calculate_gross_salary(basic_salary)\n",
    "\n",
    "# Print the gross salary\n",
    "print(f\"The gross salary is: {gross_salary:.2f}\")"
   ]
  },
  {
   "cell_type": "code",
   "execution_count": 9,
   "id": "51cccd00",
   "metadata": {},
   "outputs": [
    {
     "name": "stdout",
     "output_type": "stream",
     "text": [
      "Enter a number to find its factorial: 5\n",
      "The factorial of 5 is: 120\n"
     ]
    }
   ],
   "source": [
    "# Function to calculate factorial\n",
    "def factorial(n):\n",
    "    if n == 0 or n == 1:\n",
    "        return 1\n",
    "    else:\n",
    "        result = 1\n",
    "        for i in range(2, n + 1):\n",
    "            result *= i\n",
    "        return result\n",
    "\n",
    "# Read a number from the user\n",
    "number = int(input(\"Enter a number to find its factorial: \"))\n",
    "\n",
    "# Calculate the factorial\n",
    "if number < 0:\n",
    "    print(\"Factorial is not defined for negative numbers.\")\n",
    "else:\n",
    "    fact = factorial(number)\n",
    "    print(f\"The factorial of {number} is: {fact}\")"
   ]
  },
  {
   "cell_type": "code",
   "execution_count": 10,
   "id": "a5578cb7",
   "metadata": {},
   "outputs": [
    {
     "name": "stdout",
     "output_type": "stream",
     "text": [
      "Enter the first number (num1): 1\n",
      "Enter the second number (num2): 5\n",
      "The sum of all numbers between 1 and 5 is: 15\n"
     ]
    }
   ],
   "source": [
    "# Function to calculate the sum of all numbers between num1 and num2\n",
    "def sum_in_range(num1, num2):\n",
    "    if num1 > num2:\n",
    "        # Swap if num1 is greater than num2 to ensure correct range\n",
    "        num1, num2 = num2, num1\n",
    "    \n",
    "    total_sum = 0\n",
    "    for num in range(num1, num2 + 1):\n",
    "        total_sum += num\n",
    "    \n",
    "    return total_sum\n",
    "\n",
    "# Read the two numbers from the user\n",
    "num1 = int(input(\"Enter the first number (num1): \"))\n",
    "num2 = int(input(\"Enter the second number (num2): \"))\n",
    "\n",
    "# Calculate the sum of all numbers in the range\n",
    "result = sum_in_range(num1, num2)\n",
    "\n",
    "# Print the result\n",
    "print(f\"The sum of all numbers between {num1} and {num2} is: {result}\")"
   ]
  },
  {
   "cell_type": "code",
   "execution_count": 11,
   "id": "21791232",
   "metadata": {},
   "outputs": [
    {
     "name": "stdout",
     "output_type": "stream",
     "text": [
      "Even numbers: [56, 2, 48, 32, 56, 68]\n",
      "Odd numbers: [35, 41, 43, 71, 55]\n"
     ]
    }
   ],
   "source": [
    "# Given tuple\n",
    "num = (56, 2, 35, 41, 43, 48, 32, 56, 71, 55, 68)\n",
    "\n",
    "# Initialize empty lists for even and odd numbers\n",
    "even_numbers = []\n",
    "odd_numbers = []\n",
    "\n",
    "# Iterate through the tuple and classify numbers as even or odd\n",
    "for number in num:\n",
    "    if number % 2 == 0:\n",
    "        even_numbers.append(number)\n",
    "    else:\n",
    "        odd_numbers.append(number)\n",
    "\n",
    "# Print the resulting lists\n",
    "print(f\"Even numbers: {even_numbers}\")\n",
    "print(f\"Odd numbers: {odd_numbers}\")"
   ]
  },
  {
   "cell_type": "code",
   "execution_count": 12,
   "id": "4176443a",
   "metadata": {},
   "outputs": [
    {
     "name": "stdout",
     "output_type": "stream",
     "text": [
      "Enter a number: 8\n",
      "The number 8 is Even.\n"
     ]
    }
   ],
   "source": [
    "# Function to check if a number is odd or even\n",
    "def check_odd_even(number):\n",
    "    if number % 2 == 0:\n",
    "        return \"Even\"\n",
    "    else:\n",
    "        return \"Odd\"\n",
    "\n",
    "# Read a number from the user\n",
    "number = int(input(\"Enter a number: \"))\n",
    "\n",
    "# Use the function to determine if the number is odd or even\n",
    "result = check_odd_even(number)\n",
    "\n",
    "# Print the result\n",
    "print(f\"The number {number} is {result}.\")"
   ]
  },
  {
   "cell_type": "code",
   "execution_count": 14,
   "id": "1b6fe337",
   "metadata": {},
   "outputs": [
    {
     "name": "stdout",
     "output_type": "stream",
     "text": [
      "Enter a number: 1\n",
      "Square root: 1.00\n",
      "Sine (in radians): 0.02\n",
      "Tangent (in radians): 0.02\n",
      "Logarithm (base e): 0.00\n",
      "Factorial: 1\n"
     ]
    }
   ],
   "source": [
    "import math\n",
    "\n",
    "# Function to perform calculations\n",
    "def calculate_values(number):\n",
    "    # Check if the number is valid for certain operations\n",
    "    if number < 0:\n",
    "        raise ValueError(\"Cannot compute square root, logarithm, or factorial for negative numbers.\")\n",
    "    if number == 0:\n",
    "        raise ValueError(\"Cannot compute logarithm of zero.\")\n",
    "    \n",
    "    square_root = math.sqrt(number)\n",
    "    sin_value = math.sin(math.radians(number))  # Convert number to radians for sin\n",
    "    tan_value = math.tan(math.radians(number))  # Convert number to radians for tan\n",
    "    log_value = math.log(number)  # Natural logarithm (base e)\n",
    "    factorial_value = math.factorial(int(number))  # Factorial (need integer)\n",
    "\n",
    "    return square_root, sin_value, tan_value, log_value, factorial_value\n",
    "\n",
    "# Read a number from the user\n",
    "try:\n",
    "    number = float(input(\"Enter a number: \"))\n",
    "    \n",
    "    # Calculate values\n",
    "    square_root, sin_value, tan_value, log_value, factorial_value = calculate_values(number)\n",
    "    \n",
    "    # Print the results\n",
    "    print(f\"Square root: {square_root:.2f}\")\n",
    "    print(f\"Sine (in radians): {sin_value:.2f}\")\n",
    "    print(f\"Tangent (in radians): {tan_value:.2f}\")\n",
    "    print(f\"Logarithm (base e): {log_value:.2f}\")\n",
    "    print(f\"Factorial: {factorial_value}\")\n",
    "    \n",
    "except ValueError as e:\n",
    "    print(f\"Error: {e}\")\n",
    "except Exception as e:\n",
    "    print(f\"An unexpected error occurred: {e}\")"
   ]
  },
  {
   "cell_type": "code",
   "execution_count": 15,
   "id": "1f7a3f9d",
   "metadata": {},
   "outputs": [
    {
     "name": "stdout",
     "output_type": "stream",
     "text": [
      "Enter the length of the rectangle: 10\n",
      "Enter the width of the rectangle: 15\n",
      "The area of the rectangle is: 150.00\n"
     ]
    }
   ],
   "source": [
    "class Rectangle:\n",
    "    def __init__(self, length, width):\n",
    "        self.length = length\n",
    "        self.width = width\n",
    "\n",
    "    def calculate(self):\n",
    "        return self.length * self.width\n",
    "\n",
    "# Create an object of the Rectangle class\n",
    "# Read length and width from the user\n",
    "length = float(input(\"Enter the length of the rectangle: \"))\n",
    "width = float(input(\"Enter the width of the rectangle: \"))\n",
    "\n",
    "# Create an instance of Rectangle\n",
    "rectangle = Rectangle(length, width)\n",
    "\n",
    "# Calculate and print the area\n",
    "area = rectangle.calculate()\n",
    "print(f\"The area of the rectangle is: {area:.2f}\")"
   ]
  },
  {
   "cell_type": "code",
   "execution_count": null,
   "id": "b5fbbbf6",
   "metadata": {},
   "outputs": [],
   "source": []
  }
 ],
 "metadata": {
  "kernelspec": {
   "display_name": "Python 3 (ipykernel)",
   "language": "python",
   "name": "python3"
  },
  "language_info": {
   "codemirror_mode": {
    "name": "ipython",
    "version": 3
   },
   "file_extension": ".py",
   "mimetype": "text/x-python",
   "name": "python",
   "nbconvert_exporter": "python",
   "pygments_lexer": "ipython3",
   "version": "3.9.7"
  }
 },
 "nbformat": 4,
 "nbformat_minor": 5
}
